{
 "cells": [
  {
   "cell_type": "markdown",
   "metadata": {},
   "source": [
    "# Sentiment Analysis using Deep Learning in Keras"
   ]
  },
  {
   "cell_type": "markdown",
   "metadata": {},
   "source": [
    "### Importing Required Libraries"
   ]
  },
  {
   "cell_type": "code",
   "execution_count": 1,
   "metadata": {},
   "outputs": [],
   "source": [
    "import re\n",
    "import pandas as pd\n",
    "import numpy as np\n",
    "import seaborn as sns\n",
    "from sklearn.model_selection import train_test_split\n",
    "from keras.preprocessing.text import Tokenizer\n",
    "from numpy import array, asarray, zeros\n",
    "from keras.models import Sequential\n",
    "from keras.preprocessing.sequence import pad_sequences\n",
    "from keras.layers import Flatten, GlobalMaxPooling1D\n",
    "from keras.layers.core import Activation, Dropout, Dense\n",
    "from keras.layers.embeddings import Embedding\n",
    "import matplotlib.pyplot as plt\n",
    "from keras.layers import Conv1D\n",
    "from keras.layers import LSTM"
   ]
  },
  {
   "cell_type": "markdown",
   "metadata": {},
   "source": [
    "### Importing Dataset\n",
    "\n",
    "Dataset link: https://github.com/vineetdhanawat/twitter-sentiment-analysis/blob/master/datasets/Sentiment%20Analysis%20Dataset%20100000.csv"
   ]
  },
  {
   "cell_type": "code",
   "execution_count": 2,
   "metadata": {},
   "outputs": [],
   "source": [
    "df = pd.read_csv('Sentiment Analysis Dataset 100000.csv', encoding = 'latin-1', nrows = 10000)"
   ]
  },
  {
   "cell_type": "code",
   "execution_count": 3,
   "metadata": {},
   "outputs": [
    {
     "data": {
      "text/html": [
       "<div>\n",
       "<style scoped>\n",
       "    .dataframe tbody tr th:only-of-type {\n",
       "        vertical-align: middle;\n",
       "    }\n",
       "\n",
       "    .dataframe tbody tr th {\n",
       "        vertical-align: top;\n",
       "    }\n",
       "\n",
       "    .dataframe thead th {\n",
       "        text-align: right;\n",
       "    }\n",
       "</style>\n",
       "<table border=\"1\" class=\"dataframe\">\n",
       "  <thead>\n",
       "    <tr style=\"text-align: right;\">\n",
       "      <th></th>\n",
       "      <th>ItemID</th>\n",
       "      <th>Sentiment</th>\n",
       "      <th>SentimentText</th>\n",
       "    </tr>\n",
       "  </thead>\n",
       "  <tbody>\n",
       "    <tr>\n",
       "      <th>0</th>\n",
       "      <td>1</td>\n",
       "      <td>0</td>\n",
       "      <td>is so sad for my APL frie...</td>\n",
       "    </tr>\n",
       "    <tr>\n",
       "      <th>1</th>\n",
       "      <td>2</td>\n",
       "      <td>0</td>\n",
       "      <td>I missed the New Moon trail...</td>\n",
       "    </tr>\n",
       "    <tr>\n",
       "      <th>2</th>\n",
       "      <td>3</td>\n",
       "      <td>1</td>\n",
       "      <td>omg its already 7:30 :O</td>\n",
       "    </tr>\n",
       "    <tr>\n",
       "      <th>3</th>\n",
       "      <td>4</td>\n",
       "      <td>0</td>\n",
       "      <td>.. Omgaga. Im sooo  im gunna CRy. I'...</td>\n",
       "    </tr>\n",
       "    <tr>\n",
       "      <th>4</th>\n",
       "      <td>5</td>\n",
       "      <td>0</td>\n",
       "      <td>i think mi bf is cheating on me!!!   ...</td>\n",
       "    </tr>\n",
       "  </tbody>\n",
       "</table>\n",
       "</div>"
      ],
      "text/plain": [
       "   ItemID  Sentiment                                      SentimentText\n",
       "0       1          0                       is so sad for my APL frie...\n",
       "1       2          0                     I missed the New Moon trail...\n",
       "2       3          1                            omg its already 7:30 :O\n",
       "3       4          0            .. Omgaga. Im sooo  im gunna CRy. I'...\n",
       "4       5          0           i think mi bf is cheating on me!!!   ..."
      ]
     },
     "execution_count": 3,
     "metadata": {},
     "output_type": "execute_result"
    }
   ],
   "source": [
    "df.head(5)"
   ]
  },
  {
   "cell_type": "code",
   "execution_count": 4,
   "metadata": {},
   "outputs": [
    {
     "data": {
      "text/plain": [
       "'                     is so sad for my APL friend.............'"
      ]
     },
     "execution_count": 4,
     "metadata": {},
     "output_type": "execute_result"
    }
   ],
   "source": [
    "df['SentimentText'][0]"
   ]
  },
  {
   "cell_type": "code",
   "execution_count": 5,
   "metadata": {},
   "outputs": [
    {
     "data": {
      "text/plain": [
       "False"
      ]
     },
     "execution_count": 5,
     "metadata": {},
     "output_type": "execute_result"
    }
   ],
   "source": [
    "df.isnull().values.any()"
   ]
  },
  {
   "cell_type": "code",
   "execution_count": 6,
   "metadata": {},
   "outputs": [
    {
     "data": {
      "text/plain": [
       "(10000, 3)"
      ]
     },
     "execution_count": 6,
     "metadata": {},
     "output_type": "execute_result"
    }
   ],
   "source": [
    "df.shape"
   ]
  },
  {
   "cell_type": "code",
   "execution_count": 7,
   "metadata": {},
   "outputs": [
    {
     "data": {
      "text/plain": [
       "<AxesSubplot:xlabel='Sentiment', ylabel='count'>"
      ]
     },
     "execution_count": 7,
     "metadata": {},
     "output_type": "execute_result"
    },
    {
     "data": {
      "image/png": "[encoded data removed]",
      "text/plain": [
       "<Figure size 432x288 with 1 Axes>"
      ]
     },
     "metadata": {
      "needs_background": "light"
     },
     "output_type": "display_data"
    }
   ],
   "source": [
    "sns.countplot(x = 'Sentiment', data = df)"
   ]
  },
  {
   "cell_type": "markdown",
   "metadata": {},
   "source": [
    "## Data Processing"
   ]
  },
  {
   "cell_type": "code",
   "execution_count": 8,
   "metadata": {},
   "outputs": [],
   "source": [
    "def removeAndTag(sen):\n",
    "    sen = sen.replace('&quot;3', '')\n",
    "    sen = sen.replace('&quot;', '')\n",
    "    sen = sen.replace('&lt;3', '')\n",
    "    sen = sen.replace('&lt;', '')\n",
    "    sen = sen.replace('&gt;', '')\n",
    "    return sen"
   ]
  },
  {
   "cell_type": "code",
   "execution_count": 9,
   "metadata": {},
   "outputs": [
    {
     "name": "stdout",
     "output_type": "stream",
     "text": [
      "  waahhh now I'm getting sad....miss hub :-'(&quot;&quot;&quot;&quot;&quot;&quot;&quot;&quot;\n",
      "\n",
      "   waahhh now I'm getting sad....miss hub :-'(\n"
     ]
    }
   ],
   "source": [
    "print(df['SentimentText'][120])\n",
    "print('\\n', removeAndTag(df['SentimentText'][120]))"
   ]
  },
  {
   "cell_type": "code",
   "execution_count": 10,
   "metadata": {},
   "outputs": [],
   "source": [
    "def removeUrl(sen):\n",
    "    sen = re.sub('http[s]?://\\S+', '', sen)\n",
    "    return sen"
   ]
  },
  {
   "cell_type": "code",
   "execution_count": 11,
   "metadata": {},
   "outputs": [
    {
     "name": "stdout",
     "output_type": "stream",
     "text": [
      " - Why must people be so picky. I mean 6 hours work and no dice!? whatï¿½s up with that! http://tumblr.com/xsg1m3ufn\n",
      "\n",
      "  - Why must people be so picky. I mean 6 hours work and no dice!? whatï¿½s up with that! \n"
     ]
    }
   ],
   "source": [
    "print(df['SentimentText'][125])\n",
    "print('\\n', removeUrl(df['SentimentText'][125]))"
   ]
  },
  {
   "cell_type": "code",
   "execution_count": 12,
   "metadata": {},
   "outputs": [],
   "source": [
    "def removeMentioned(sen):\n",
    "    sen = re.sub('[a-zA-Z0-9]*@[a-zA-Z0-9]*', '', sen)\n",
    "    return sen"
   ]
  },
  {
   "cell_type": "code",
   "execution_count": 13,
   "metadata": {},
   "outputs": [
    {
     "name": "stdout",
     "output_type": "stream",
     "text": [
      " &quot;The truth is hiding in your eyes&quot; @patita @MissMarian  Paramore ï¿½ Decode @Daninho502  ? http://blip.fm/~5ytke\n",
      "\n",
      "  &quot;The truth is hiding in your eyes&quot;    Paramore ï¿½ Decode   ? http://blip.fm/~5ytke\n"
     ]
    }
   ],
   "source": [
    "print(df['SentimentText'][146])\n",
    "print('\\n', removeMentioned(df['SentimentText'][146]))"
   ]
  },
  {
   "cell_type": "code",
   "execution_count": 14,
   "metadata": {},
   "outputs": [],
   "source": [
    "def convertShortcutOfNot(sen):\n",
    "    sen = sen.replace('an\\'t', 'an not')\n",
    "    sen = sen.replace('n\\'t', ' not')\n",
    "    return sen"
   ]
  },
  {
   "cell_type": "code",
   "execution_count": 15,
   "metadata": {},
   "outputs": [
    {
     "name": "stdout",
     "output_type": "stream",
     "text": [
      " @georgediaz #Magic ..thinking less than 50 % chance Hedo stays in Orlando. He's gonna go for the $$. They all do. Can't blame him though.\n",
      "\n",
      "  @georgediaz #Magic ..thinking less than 50 % chance Hedo stays in Orlando. He's gonna go for the $$. They all do. Can not blame him though.\n"
     ]
    }
   ],
   "source": [
    "print(df['SentimentText'][200])\n",
    "print('\\n', convertShortcutOfNot(df['SentimentText'][200]))"
   ]
  },
  {
   "cell_type": "code",
   "execution_count": 16,
   "metadata": {},
   "outputs": [
    {
     "name": "stdout",
     "output_type": "stream",
     "text": [
      " @Leloz isn't home neither is @sozi1 ... @althani96 U BETTER HAVE IT!!!\n",
      "\n",
      "  @Leloz is not home neither is @sozi1 ... @althani96 U BETTER HAVE IT!!!\n"
     ]
    }
   ],
   "source": [
    "print(df['SentimentText'][220])\n",
    "print('\\n', convertShortcutOfNot(df['SentimentText'][220]))"
   ]
  },
  {
   "cell_type": "code",
   "execution_count": 17,
   "metadata": {},
   "outputs": [],
   "source": [
    "def removeSingleChar(sen):\n",
    "    sen = re.sub(r\"\\s+[A-Z]\\s+\", ' ', sen)\n",
    "    return sen"
   ]
  },
  {
   "cell_type": "code",
   "execution_count": 18,
   "metadata": {},
   "outputs": [
    {
     "name": "stdout",
     "output_type": "stream",
     "text": [
      "   a lot, a lot, a lot, a lot, a lot, a lot, a lot, a lot, a lot, a lot, a lot, a lot.\n",
      "\n",
      "    a lot, a lot, a lot, a lot, a lot, a lot, a lot, a lot, a lot, a lot, a lot, a lot.\n"
     ]
    }
   ],
   "source": [
    "print(df['SentimentText'][307])\n",
    "print('\\n', removeSingleChar(df['SentimentText'][307]))"
   ]
  },
  {
   "cell_type": "code",
   "execution_count": 19,
   "metadata": {},
   "outputs": [],
   "source": [
    "def removeMultipleSpaceDashAndDot(sen):\n",
    "    sen = re.sub(r'[.]+', '.', sen)\n",
    "    sen = re.sub(r'\\s+', ' ', sen)\n",
    "    sen = re.sub(r'[-]+', ' ', sen)\n",
    "    return sen"
   ]
  },
  {
   "cell_type": "code",
   "execution_count": 20,
   "metadata": {},
   "outputs": [
    {
     "name": "stdout",
     "output_type": "stream",
     "text": [
      "     &lt;--------- my face because i'm missing zoro tonight.\n",
      "\n",
      "  &lt;  my face because i'm missing zoro tonight.\n"
     ]
    }
   ],
   "source": [
    "print(df['SentimentText'][342])\n",
    "print('\\n', removeMultipleSpaceDashAndDot(df['SentimentText'][342]))"
   ]
  },
  {
   "cell_type": "code",
   "execution_count": 21,
   "metadata": {},
   "outputs": [
    {
     "name": "stdout",
     "output_type": "stream",
     "text": [
      "          my life is very lazzzzyyyy!!!!!!!            ***********\n",
      "\n",
      "  my life is very lazzzzyyyy!!!!!!! ***********\n"
     ]
    }
   ],
   "source": [
    "print(df['SentimentText'][286])\n",
    "print('\\n', removeMultipleSpaceDashAndDot(df['SentimentText'][286]))"
   ]
  },
  {
   "cell_type": "code",
   "execution_count": 22,
   "metadata": {},
   "outputs": [
    {
     "name": "stdout",
     "output_type": "stream",
     "text": [
      "   i'm so cold this morning......       i have chills all over.....   \n",
      "\n",
      "  i'm so cold this morning. i have chills all over. \n"
     ]
    }
   ],
   "source": [
    "print(df['SentimentText'][319])\n",
    "print('\\n', removeMultipleSpaceDashAndDot(df['SentimentText'][319]))"
   ]
  },
  {
   "cell_type": "code",
   "execution_count": 23,
   "metadata": {},
   "outputs": [],
   "source": [
    "X = []\n",
    "\n",
    "sentences = list(df['SentimentText'])\n",
    "\n",
    "for sen in sentences:\n",
    "    sen = removeAndTag(sen)\n",
    "    sen = removeUrl(sen)\n",
    "    sen = removeMentioned(sen)\n",
    "    sen = convertShortcutOfNot(sen)\n",
    "    sen = removeSingleChar(sen)\n",
    "    sen = removeMultipleSpaceDashAndDot(sen)\n",
    "    X.append(sen)"
   ]
  },
  {
   "cell_type": "code",
   "execution_count": 24,
   "metadata": {},
   "outputs": [
    {
     "name": "stdout",
     "output_type": "stream",
     "text": [
      " is so sad for my APL friend.\n",
      "\n",
      " missed the New Moon trailer.\n",
      "\n",
      " omg its already 7:30 :O\n",
      "\n",
      " . Omgaga. Im sooo im gunna CRy. I've been at this dentist since 11. was suposed 2 just get a crown put on (30mins).\n",
      "\n",
      " i think mi bf is cheating on me!!! T_T\n",
      "\n",
      " or i just worry too much? \n",
      "\n",
      " Juuuuuuuuuuuuuuuuussssst Chillin!!\n",
      "\n",
      " Sunny Again Work Tomorrow : | TV Tonight\n",
      "\n",
      " handed in my uniform today . i miss you already\n",
      "\n",
      " hmmmm. i wonder how she my number  )\n",
      "\n"
     ]
    }
   ],
   "source": [
    "for sen in range(0, 10):\n",
    "    print(X[sen], end = '\\n\\n')"
   ]
  },
  {
   "cell_type": "code",
   "execution_count": 25,
   "metadata": {},
   "outputs": [],
   "source": [
    "y = df['Sentiment']"
   ]
  },
  {
   "cell_type": "code",
   "execution_count": 26,
   "metadata": {},
   "outputs": [
    {
     "name": "stdout",
     "output_type": "stream",
     "text": [
      "0, 0, 1, 0, 0, "
     ]
    }
   ],
   "source": [
    "for sen in range(0, 5):\n",
    "    print(y[sen], end = ', ')"
   ]
  },
  {
   "cell_type": "code",
   "execution_count": 27,
   "metadata": {},
   "outputs": [],
   "source": [
    "y = np.array(list(y))"
   ]
  },
  {
   "cell_type": "markdown",
   "metadata": {},
   "source": [
    "#### Dataset splitting to train and test"
   ]
  },
  {
   "cell_type": "code",
   "execution_count": 28,
   "metadata": {},
   "outputs": [],
   "source": [
    "X_train, X_test, y_train, y_test = train_test_split(\n",
    "    X, y, test_size = 0.25,\n",
    "    random_state = 42\n",
    ")"
   ]
  },
  {
   "cell_type": "code",
   "execution_count": 29,
   "metadata": {},
   "outputs": [
    {
     "name": "stdout",
     "output_type": "stream",
     "text": [
      "#FollowFriday is a ferociously gifted writer whose books &amp; Tweets are magical must reads. Follow &amp; you'll LOVE her too \n",
      "1\n"
     ]
    }
   ],
   "source": [
    "print(X_train[2])\n",
    "print(y_train[2])"
   ]
  },
  {
   "cell_type": "markdown",
   "metadata": {},
   "source": [
    "### Preparing Embedding Layer"
   ]
  },
  {
   "cell_type": "code",
   "execution_count": 30,
   "metadata": {},
   "outputs": [],
   "source": [
    "tokenizer = Tokenizer(num_words = 50000)\n",
    "tokenizer.fit_on_texts(X_train)"
   ]
  },
  {
   "cell_type": "code",
   "execution_count": 31,
   "metadata": {},
   "outputs": [],
   "source": [
    "X_train = tokenizer.texts_to_sequences(X_train)"
   ]
  },
  {
   "cell_type": "code",
   "execution_count": 32,
   "metadata": {},
   "outputs": [],
   "source": [
    "X_test = tokenizer.texts_to_sequences(X_test)"
   ]
  },
  {
   "cell_type": "code",
   "execution_count": 33,
   "metadata": {},
   "outputs": [
    {
     "name": "stdout",
     "output_type": "stream",
     "text": [
      "              omg its already 7:30 :O\n",
      "[40, 8, 3, 4914, 1948, 691, 594, 774, 22, 262, 31, 4915, 276, 1633, 103, 22, 481, 38, 75, 91]\n",
      "20\n"
     ]
    }
   ],
   "source": [
    "print(sentences[2])\n",
    "print(X_train[2])\n",
    "print(len(X_train[2]))"
   ]
  },
  {
   "cell_type": "code",
   "execution_count": 34,
   "metadata": {},
   "outputs": [
    {
     "name": "stdout",
     "output_type": "stream",
     "text": [
      "13077\n"
     ]
    }
   ],
   "source": [
    "maxlen = 100\n",
    "vocab_size = len(tokenizer.word_index) + 1\n",
    "print(vocab_size)"
   ]
  },
  {
   "cell_type": "code",
   "execution_count": 35,
   "metadata": {},
   "outputs": [],
   "source": [
    "X_train = pad_sequences(\n",
    "    X_train,\n",
    "    padding = 'post',\n",
    "    maxlen = maxlen\n",
    ")"
   ]
  },
  {
   "cell_type": "code",
   "execution_count": 36,
   "metadata": {},
   "outputs": [],
   "source": [
    "X_test = pad_sequences(\n",
    "    X_test,\n",
    "    padding = 'post',\n",
    "    maxlen = maxlen\n",
    ")"
   ]
  },
  {
   "cell_type": "markdown",
   "metadata": {},
   "source": [
    "#### glove.6B.100d.txt Dataset for GloVe Embedding\n",
    "\n",
    "dataset link: https://www.kaggle.com/danielwillgeorge/glove6b100dtxt"
   ]
  },
  {
   "cell_type": "code",
   "execution_count": 37,
   "metadata": {},
   "outputs": [],
   "source": [
    "embed_dictionary = dict()\n",
    "glv_file = open('glove.6B.100d.txt', encoding='utf8')"
   ]
  },
  {
   "cell_type": "code",
   "execution_count": 38,
   "metadata": {},
   "outputs": [],
   "source": [
    "for line in glv_file:\n",
    "    records = line.split()\n",
    "    word = records[0]\n",
    "    vector_dim = asarray(records[1:], dtype='float32')\n",
    "    embed_dictionary[word] = vector_dim\n",
    "glv_file.close()"
   ]
  },
  {
   "cell_type": "code",
   "execution_count": 39,
   "metadata": {},
   "outputs": [],
   "source": [
    "embed_matrix = zeros((vocab_size, 100))"
   ]
  },
  {
   "cell_type": "code",
   "execution_count": 40,
   "metadata": {},
   "outputs": [
    {
     "data": {
      "text/plain": [
       "array([0., 0., 0., 0., 0., 0., 0., 0., 0., 0., 0., 0., 0., 0., 0., 0., 0.,\n",
       "       0., 0., 0., 0., 0., 0., 0., 0., 0., 0., 0., 0., 0., 0., 0., 0., 0.,\n",
       "       0., 0., 0., 0., 0., 0., 0., 0., 0., 0., 0., 0., 0., 0., 0., 0., 0.,\n",
       "       0., 0., 0., 0., 0., 0., 0., 0., 0., 0., 0., 0., 0., 0., 0., 0., 0.,\n",
       "       0., 0., 0., 0., 0., 0., 0., 0., 0., 0., 0., 0., 0., 0., 0., 0., 0.,\n",
       "       0., 0., 0., 0., 0., 0., 0., 0., 0., 0., 0., 0., 0., 0., 0.])"
      ]
     },
     "execution_count": 40,
     "metadata": {},
     "output_type": "execute_result"
    }
   ],
   "source": [
    "embed_matrix[1]"
   ]
  },
  {
   "cell_type": "code",
   "execution_count": 41,
   "metadata": {},
   "outputs": [],
   "source": [
    "for word, index in tokenizer.word_index.items():\n",
    "    embed_vector = embed_dictionary.get(word)\n",
    "    if embed_vector is not None:\n",
    "        embed_matrix[index] = embed_vector"
   ]
  },
  {
   "cell_type": "code",
   "execution_count": 42,
   "metadata": {},
   "outputs": [
    {
     "data": {
      "text/plain": [
       "array([-1.89700007e-01,  5.00239991e-02,  1.90840006e-01, -4.91839983e-02,\n",
       "       -8.97369981e-02,  2.10060000e-01, -5.49520016e-01,  9.83769968e-02,\n",
       "       -2.01350003e-01,  3.42409998e-01, -9.26769972e-02,  1.60999998e-01,\n",
       "       -1.32679999e-01, -2.81599998e-01,  1.87370002e-01, -4.29589987e-01,\n",
       "        9.60389972e-01,  1.39719993e-01, -1.07809997e+00,  4.05180007e-01,\n",
       "        5.05389988e-01, -5.50639987e-01,  4.84400004e-01,  3.80439997e-01,\n",
       "       -2.90549989e-03, -3.49420011e-01, -9.96960029e-02, -7.83680022e-01,\n",
       "        1.03629994e+00, -2.31399998e-01, -4.71210003e-01,  5.71259975e-01,\n",
       "       -2.14540005e-01,  3.59580010e-01, -4.83190000e-01,  1.08749998e+00,\n",
       "        2.85239995e-01,  1.24470003e-01, -3.92480008e-02, -7.67320022e-02,\n",
       "       -7.63429999e-01, -3.24090004e-01, -5.74899971e-01, -1.08930004e+00,\n",
       "       -4.18110013e-01,  4.51200008e-01,  1.21119998e-01, -5.13670027e-01,\n",
       "       -1.33489996e-01, -1.13779998e+00, -2.87680000e-01,  1.67740002e-01,\n",
       "        5.58040023e-01,  1.53869998e+00,  1.88590009e-02, -2.97210002e+00,\n",
       "       -2.42160007e-01, -9.24950004e-01,  2.19919991e+00,  2.82339990e-01,\n",
       "       -3.47799987e-01,  5.16210020e-01, -4.33869988e-01,  3.68519992e-01,\n",
       "        7.45729983e-01,  7.21020028e-02,  2.79309988e-01,  9.25689995e-01,\n",
       "       -5.03359996e-02, -8.58560026e-01, -1.35800004e-01, -9.25509989e-01,\n",
       "       -3.39910001e-01, -1.03939998e+00, -6.72030002e-02, -2.13789999e-01,\n",
       "       -4.76900011e-01,  2.13770002e-01, -8.40080023e-01,  5.25359996e-02,\n",
       "        5.92980027e-01,  2.96039999e-01, -6.76440001e-01,  1.39160007e-01,\n",
       "       -1.55040002e+00, -2.07650006e-01,  7.22199976e-01,  5.20560026e-01,\n",
       "       -7.62209967e-02, -1.51940003e-01, -1.31339997e-01,  5.86169995e-02,\n",
       "       -3.18690002e-01, -6.14189982e-01, -6.23929977e-01, -4.15479988e-01,\n",
       "       -3.81750017e-02, -3.98039997e-01,  4.76469994e-01, -1.59830004e-01])"
      ]
     },
     "execution_count": 42,
     "metadata": {},
     "output_type": "execute_result"
    }
   ],
   "source": [
    "embed_matrix[1]"
   ]
  },
  {
   "cell_type": "markdown",
   "metadata": {},
   "source": [
    "## Text Classification with Simple Neural Network"
   ]
  },
  {
   "cell_type": "code",
   "execution_count": 43,
   "metadata": {},
   "outputs": [],
   "source": [
    "model = Sequential()\n",
    "embed_layer = Embedding(\n",
    "    vocab_size, 100,\n",
    "    weights = [embed_matrix],\n",
    "    input_length = maxlen,\n",
    "    trainable = False\n",
    ")\n",
    "model.add(embed_layer)\n",
    "model.add(Flatten())"
   ]
  },
  {
   "cell_type": "code",
   "execution_count": 44,
   "metadata": {},
   "outputs": [],
   "source": [
    "model.add(\n",
    "    Dense(\n",
    "        1,\n",
    "        activation = 'sigmoid'\n",
    "    )\n",
    ")"
   ]
  },
  {
   "cell_type": "code",
   "execution_count": 45,
   "metadata": {},
   "outputs": [],
   "source": [
    "model.compile(\n",
    "    optimizer = 'adam',\n",
    "    loss = 'binary_crossentropy',\n",
    "    metrics = ['acc']\n",
    ")"
   ]
  },
  {
   "cell_type": "code",
   "execution_count": 46,
   "metadata": {},
   "outputs": [
    {
     "name": "stdout",
     "output_type": "stream",
     "text": [
      "Model: \"sequential\"\n",
      "_________________________________________________________________\n",
      "Layer (type)                 Output Shape              Param #   \n",
      "=================================================================\n",
      "embedding (Embedding)        (None, 100, 100)          1307700   \n",
      "_________________________________________________________________\n",
      "flatten (Flatten)            (None, 10000)             0         \n",
      "_________________________________________________________________\n",
      "dense (Dense)                (None, 1)                 10001     \n",
      "=================================================================\n",
      "Total params: 1,317,701\n",
      "Trainable params: 10,001\n",
      "Non-trainable params: 1,307,700\n",
      "_________________________________________________________________\n"
     ]
    }
   ],
   "source": [
    "model.summary()"
   ]
  },
  {
   "cell_type": "code",
   "execution_count": 47,
   "metadata": {},
   "outputs": [
    {
     "name": "stdout",
     "output_type": "stream",
     "text": [
      "Epoch 1/6\n",
      "47/47 [==============================] - 0s 5ms/step - loss: 0.6644 - acc: 0.5935 - val_loss: 0.6327 - val_acc: 0.6580\n",
      "Epoch 2/6\n",
      "47/47 [==============================] - 0s 2ms/step - loss: 0.6034 - acc: 0.6892 - val_loss: 0.6206 - val_acc: 0.6687\n",
      "Epoch 3/6\n",
      "47/47 [==============================] - 0s 3ms/step - loss: 0.5744 - acc: 0.7113 - val_loss: 0.6036 - val_acc: 0.6693\n",
      "Epoch 4/6\n",
      "47/47 [==============================] - 0s 3ms/step - loss: 0.5532 - acc: 0.7330 - val_loss: 0.5994 - val_acc: 0.6820\n",
      "Epoch 5/6\n",
      "47/47 [==============================] - 0s 3ms/step - loss: 0.5375 - acc: 0.7447 - val_loss: 0.5957 - val_acc: 0.6840\n",
      "Epoch 6/6\n",
      "47/47 [==============================] - 0s 2ms/step - loss: 0.5237 - acc: 0.7538 - val_loss: 0.5939 - val_acc: 0.6887\n"
     ]
    }
   ],
   "source": [
    "hist = model.fit(\n",
    "    X_train, y_train,\n",
    "    batch_size = 128,\n",
    "    epochs = 6,\n",
    "    verbose = 1,\n",
    "    validation_split = 0.2\n",
    ")"
   ]
  },
  {
   "cell_type": "code",
   "execution_count": 48,
   "metadata": {},
   "outputs": [
    {
     "name": "stdout",
     "output_type": "stream",
     "text": [
      "79/79 [==============================] - 0s 726us/step - loss: 0.5962 - acc: 0.6920\n"
     ]
    }
   ],
   "source": [
    "score = model.evaluate(\n",
    "    X_test, y_test,\n",
    "    verbose = 1\n",
    ")"
   ]
  },
  {
   "cell_type": "code",
   "execution_count": 49,
   "metadata": {},
   "outputs": [
    {
     "name": "stdout",
     "output_type": "stream",
     "text": [
      "train score =  0.5265980362892151\n",
      "train acc =  0.7545333504676819\n"
     ]
    }
   ],
   "source": [
    "score_train = model.evaluate(X_train, y_train, verbose = 3)\n",
    "print('train score = ', score_train[0])\n",
    "print('train acc = ', score_train[1])"
   ]
  },
  {
   "cell_type": "code",
   "execution_count": 50,
   "metadata": {},
   "outputs": [
    {
     "name": "stdout",
     "output_type": "stream",
     "text": [
      "test score =  0.5962023735046387\n",
      "test accuracy =  0.6919999718666077\n"
     ]
    }
   ],
   "source": [
    "score = model.evaluate(X_test, y_test, verbose = 3)\n",
    "print('test score = ', score[0])\n",
    "print('test accuracy = ', score[1])"
   ]
  },
  {
   "cell_type": "code",
   "execution_count": 51,
   "metadata": {},
   "outputs": [
    {
     "data": {
      "image/png": "[encoded data removed]",
      "text/plain": [
       "<Figure size 432x288 with 1 Axes>"
      ]
     },
     "metadata": {
      "needs_background": "light"
     },
     "output_type": "display_data"
    }
   ],
   "source": [
    "plt.title('model accuracy')\n",
    "plt.xlabel('epoch')\n",
    "plt.ylabel('accuracy')\n",
    "plt.legend(['train', 'test'])\n",
    "\n",
    "plt.plot(hist.history['acc'])\n",
    "plt.plot(hist.history['val_acc'])\n",
    "\n",
    "plt.show()"
   ]
  },
  {
   "cell_type": "code",
   "execution_count": 52,
   "metadata": {
    "scrolled": true
   },
   "outputs": [
    {
     "data": {
      "image/png": "[encoded data removed]",
      "text/plain": [
       "<Figure size 432x288 with 1 Axes>"
      ]
     },
     "metadata": {
      "needs_background": "light"
     },
     "output_type": "display_data"
    }
   ],
   "source": [
    "plt.title('model loss')\n",
    "plt.xlabel('epoch')\n",
    "plt.ylabel('loss')\n",
    "plt.legend(['train', 'test'], loc = 'upper left')\n",
    "\n",
    "plt.plot(hist.history['loss'])\n",
    "plt.plot(hist.history['val_loss'])\n",
    "\n",
    "plt.show()"
   ]
  },
  {
   "cell_type": "markdown",
   "metadata": {},
   "source": [
    "## Text Classification with CNN"
   ]
  },
  {
   "cell_type": "code",
   "execution_count": 53,
   "metadata": {},
   "outputs": [],
   "source": [
    "model = Sequential()\n",
    "\n",
    "embed_layer = Embedding(\n",
    "    vocab_size, 100,\n",
    "    weights = [embed_matrix],\n",
    "    input_length = maxlen,\n",
    "    trainable = False\n",
    ")\n",
    "model.add(embed_layer)"
   ]
  },
  {
   "cell_type": "code",
   "execution_count": 54,
   "metadata": {},
   "outputs": [],
   "source": [
    "model.add(\n",
    "    Conv1D(128, 5,\n",
    "        activation = 'relu'\n",
    "    )\n",
    ")\n",
    "model.add(GlobalMaxPooling1D())\n",
    "model.add(\n",
    "    Dense(1,\n",
    "          activation = 'sigmoid'\n",
    "    )\n",
    ")"
   ]
  },
  {
   "cell_type": "code",
   "execution_count": 55,
   "metadata": {},
   "outputs": [],
   "source": [
    "model.compile(\n",
    "    optimizer = 'adam',\n",
    "    loss = 'binary_crossentropy',\n",
    "    metrics = ['accuracy']\n",
    ")"
   ]
  },
  {
   "cell_type": "code",
   "execution_count": 56,
   "metadata": {},
   "outputs": [
    {
     "name": "stdout",
     "output_type": "stream",
     "text": [
      "Model: \"sequential_1\"\n",
      "_________________________________________________________________\n",
      "Layer (type)                 Output Shape              Param #   \n",
      "=================================================================\n",
      "embedding_1 (Embedding)      (None, 100, 100)          1307700   \n",
      "_________________________________________________________________\n",
      "conv1d (Conv1D)              (None, 96, 128)           64128     \n",
      "_________________________________________________________________\n",
      "global_max_pooling1d (Global (None, 128)               0         \n",
      "_________________________________________________________________\n",
      "dense_1 (Dense)              (None, 1)                 129       \n",
      "=================================================================\n",
      "Total params: 1,371,957\n",
      "Trainable params: 64,257\n",
      "Non-trainable params: 1,307,700\n",
      "_________________________________________________________________\n"
     ]
    }
   ],
   "source": [
    "model.summary()"
   ]
  },
  {
   "cell_type": "code",
   "execution_count": 57,
   "metadata": {},
   "outputs": [
    {
     "name": "stdout",
     "output_type": "stream",
     "text": [
      "Epoch 1/6\n",
      "47/47 [==============================] - 2s 44ms/step - loss: 0.6321 - accuracy: 0.6448 - val_loss: 0.5887 - val_accuracy: 0.6827\n",
      "Epoch 2/6\n",
      "47/47 [==============================] - 2s 40ms/step - loss: 0.5228 - accuracy: 0.7463 - val_loss: 0.5762 - val_accuracy: 0.7053\n",
      "Epoch 3/6\n",
      "47/47 [==============================] - 2s 40ms/step - loss: 0.4707 - accuracy: 0.7902 - val_loss: 0.5762 - val_accuracy: 0.7020\n",
      "Epoch 4/6\n",
      "47/47 [==============================] - 2s 39ms/step - loss: 0.4253 - accuracy: 0.8195 - val_loss: 0.5708 - val_accuracy: 0.7080\n",
      "Epoch 5/6\n",
      "47/47 [==============================] - 2s 39ms/step - loss: 0.3770 - accuracy: 0.8562 - val_loss: 0.5408 - val_accuracy: 0.7247\n",
      "Epoch 6/6\n",
      "47/47 [==============================] - 2s 40ms/step - loss: 0.3341 - accuracy: 0.8885 - val_loss: 0.5374 - val_accuracy: 0.7287\n"
     ]
    }
   ],
   "source": [
    "hist = model.fit(\n",
    "    X_train, y_train,\n",
    "    batch_size = 128,\n",
    "    epochs = 6,\n",
    "    verbose = 1,\n",
    "    validation_split = 0.2\n",
    ")"
   ]
  },
  {
   "cell_type": "code",
   "execution_count": 58,
   "metadata": {},
   "outputs": [
    {
     "name": "stdout",
     "output_type": "stream",
     "text": [
      "train score =  0.3403852880001068\n",
      "train acc =  0.8862666487693787\n"
     ]
    }
   ],
   "source": [
    "score_train_cnn = model.evaluate(X_train, y_train, verbose = 3)\n",
    "print('train score = ', score_train_cnn[0])\n",
    "print('train acc = ', score_train_cnn[1])"
   ]
  },
  {
   "cell_type": "code",
   "execution_count": 59,
   "metadata": {},
   "outputs": [
    {
     "name": "stdout",
     "output_type": "stream",
     "text": [
      "79/79 [==============================] - 0s 5ms/step - loss: 0.5445 - accuracy: 0.7280\n",
      "test score =  0.5444665551185608\n",
      "test acc =  0.7279999852180481\n"
     ]
    }
   ],
   "source": [
    "score_cnn = model.evaluate(\n",
    "    X_test, y_test,\n",
    "    verbose = 1\n",
    ")\n",
    "print('test score = ', score_cnn[0])\n",
    "print('test acc = ', score_cnn[1])"
   ]
  },
  {
   "cell_type": "code",
   "execution_count": 60,
   "metadata": {},
   "outputs": [
    {
     "data": {
      "image/png": "[encoded data removed]",
      "text/plain": [
       "<Figure size 432x288 with 1 Axes>"
      ]
     },
     "metadata": {
      "needs_background": "light"
     },
     "output_type": "display_data"
    }
   ],
   "source": [
    "plt.title('model accuracy')\n",
    "plt.xlabel('epoch')\n",
    "plt.ylabel('accuracy')\n",
    "plt.legend(['train', 'test'])\n",
    "\n",
    "plt.plot(hist.history['accuracy'])\n",
    "plt.plot(hist.history['val_accuracy'])\n",
    "\n",
    "plt.show()"
   ]
  },
  {
   "cell_type": "code",
   "execution_count": 61,
   "metadata": {},
   "outputs": [
    {
     "data": {
      "image/png": "[encoded data removed]",
      "text/plain": [
       "<Figure size 432x288 with 1 Axes>"
      ]
     },
     "metadata": {
      "needs_background": "light"
     },
     "output_type": "display_data"
    }
   ],
   "source": [
    "plt.title('model loss')\n",
    "plt.xlabel('epoch')\n",
    "plt.ylabel('loss')\n",
    "plt.legend(['train', 'test'], loc = 'upper left')\n",
    "\n",
    "plt.plot(hist.history['loss'])\n",
    "plt.plot(hist.history['val_loss'])\n",
    "\n",
    "plt.show()"
   ]
  },
  {
   "cell_type": "markdown",
   "metadata": {},
   "source": [
    "## Text Classification with LSTM"
   ]
  },
  {
   "cell_type": "code",
   "execution_count": 62,
   "metadata": {},
   "outputs": [],
   "source": [
    "model = Sequential()\n",
    "embed_layer = Embedding(\n",
    "    vocab_size, 100,\n",
    "    weights = [embed_matrix],\n",
    "    input_length = maxlen,\n",
    "    trainable = False\n",
    ")\n",
    "model.add(embed_layer)\n",
    "model.add(LSTM(128))"
   ]
  },
  {
   "cell_type": "code",
   "execution_count": 63,
   "metadata": {},
   "outputs": [],
   "source": [
    "model.add(\n",
    "    Dense(\n",
    "        1,\n",
    "        activation = 'sigmoid'\n",
    "    )\n",
    ")\n",
    "model.compile(\n",
    "    optimizer = 'adam',\n",
    "    loss = 'binary_crossentropy',\n",
    "    metrics = ['acc']\n",
    ")"
   ]
  },
  {
   "cell_type": "code",
   "execution_count": 64,
   "metadata": {},
   "outputs": [
    {
     "name": "stdout",
     "output_type": "stream",
     "text": [
      "Model: \"sequential_2\"\n",
      "_________________________________________________________________\n",
      "Layer (type)                 Output Shape              Param #   \n",
      "=================================================================\n",
      "embedding_2 (Embedding)      (None, 100, 100)          1307700   \n",
      "_________________________________________________________________\n",
      "lstm (LSTM)                  (None, 128)               117248    \n",
      "_________________________________________________________________\n",
      "dense_2 (Dense)              (None, 1)                 129       \n",
      "=================================================================\n",
      "Total params: 1,425,077\n",
      "Trainable params: 117,377\n",
      "Non-trainable params: 1,307,700\n",
      "_________________________________________________________________\n"
     ]
    }
   ],
   "source": [
    "model.summary()"
   ]
  },
  {
   "cell_type": "code",
   "execution_count": 65,
   "metadata": {},
   "outputs": [
    {
     "name": "stdout",
     "output_type": "stream",
     "text": [
      "Epoch 1/6\n",
      "47/47 [==============================] - 7s 152ms/step - loss: 0.6829 - acc: 0.5785 - val_loss: 0.6831 - val_acc: 0.5733\n",
      "Epoch 2/6\n",
      "47/47 [==============================] - 7s 152ms/step - loss: 0.6812 - acc: 0.5785 - val_loss: 0.6824 - val_acc: 0.5733\n",
      "Epoch 3/6\n",
      "47/47 [==============================] - 8s 172ms/step - loss: 0.6814 - acc: 0.5785 - val_loss: 0.6824 - val_acc: 0.5733\n",
      "Epoch 4/6\n",
      "47/47 [==============================] - 8s 169ms/step - loss: 0.6811 - acc: 0.5785 - val_loss: 0.6824 - val_acc: 0.5733\n",
      "Epoch 5/6\n",
      "47/47 [==============================] - 9s 181ms/step - loss: 0.6810 - acc: 0.5785 - val_loss: 0.6824 - val_acc: 0.5733\n",
      "Epoch 6/6\n",
      "47/47 [==============================] - 9s 184ms/step - loss: 0.6810 - acc: 0.5785 - val_loss: 0.6824 - val_acc: 0.5733\n"
     ]
    }
   ],
   "source": [
    "hist = model.fit(\n",
    "    X_train, y_train,\n",
    "    batch_size = 128,\n",
    "    epochs = 6,\n",
    "    verbose = 1,\n",
    "    validation_split = 0.2\n",
    ")"
   ]
  },
  {
   "cell_type": "code",
   "execution_count": 66,
   "metadata": {
    "scrolled": true
   },
   "outputs": [
    {
     "name": "stdout",
     "output_type": "stream",
     "text": [
      "235/235 [==============================] - 8s 32ms/step - loss: 0.6811 - acc: 0.5775\n",
      "train score =  0.6811463832855225\n",
      "train acc =  0.5774666666984558\n"
     ]
    }
   ],
   "source": [
    "score_train_lstm = model.evaluate(\n",
    "    X_train, y_train,\n",
    "    verbose = 1\n",
    ")\n",
    "print('train score = ', score_train_lstm[0])\n",
    "print('train acc = ', score_train_lstm[1])"
   ]
  },
  {
   "cell_type": "code",
   "execution_count": 67,
   "metadata": {},
   "outputs": [
    {
     "name": "stdout",
     "output_type": "stream",
     "text": [
      "79/79 [==============================] - 2s 28ms/step - loss: 0.6767 - acc: 0.5924\n",
      "test score =  0.6767327785491943\n",
      "test acc =  0.5924000144004822\n"
     ]
    }
   ],
   "source": [
    "score_lstm = model.evaluate(\n",
    "    X_test, y_test,\n",
    "    verbose = 1\n",
    ")\n",
    "print('test score = ', score_lstm[0])\n",
    "print('test acc = ', score_lstm[1])"
   ]
  },
  {
   "cell_type": "code",
   "execution_count": 68,
   "metadata": {},
   "outputs": [
    {
     "data": {
      "image/png": "[encoded data removed]",
      "text/plain": [
       "<Figure size 432x288 with 1 Axes>"
      ]
     },
     "metadata": {
      "needs_background": "light"
     },
     "output_type": "display_data"
    }
   ],
   "source": [
    "plt.title('model accuracy')\n",
    "plt.xlabel('epoch')\n",
    "plt.ylabel('accuracy')\n",
    "plt.legend(['train', 'test'])\n",
    "\n",
    "plt.plot(hist.history['acc'])\n",
    "plt.plot(hist.history['val_acc'])\n",
    "\n",
    "plt.show()"
   ]
  },
  {
   "cell_type": "code",
   "execution_count": 69,
   "metadata": {},
   "outputs": [
    {
     "data": {
      "image/png": "[encoded data removed]",
      "text/plain": [
       "<Figure size 432x288 with 1 Axes>"
      ]
     },
     "metadata": {
      "needs_background": "light"
     },
     "output_type": "display_data"
    }
   ],
   "source": [
    "plt.title('model loss')\n",
    "plt.xlabel('epoch')\n",
    "plt.ylabel('loss')\n",
    "plt.legend(['train', 'test'], loc = 'upper left')\n",
    "\n",
    "plt.plot(hist.history['loss'])\n",
    "plt.plot(hist.history['val_loss'])\n",
    "\n",
    "plt.show()"
   ]
  },
  {
   "cell_type": "markdown",
   "metadata": {},
   "source": [
    "## Text Classification with Bi-Directional LSTM"
   ]
  },
  {
   "cell_type": "code",
   "execution_count": 70,
   "metadata": {},
   "outputs": [],
   "source": [
    "from keras.layers import TimeDistributed\n",
    "from keras.layers import Bidirectional\n",
    "\n",
    "model = Sequential()\n",
    "embed_layer = Embedding(\n",
    "    vocab_size,\n",
    "    100,\n",
    "    weights = [embed_matrix],\n",
    "    input_length = maxlen,\n",
    "    trainable = False\n",
    ")\n",
    "model.add(embed_layer)\n",
    "model.add(\n",
    "    Bidirectional(\n",
    "        LSTM(\n",
    "            100,\n",
    "            return_sequences = True,\n",
    "            dropout = 0.50\n",
    "        ),\n",
    "        merge_mode = 'concat'\n",
    "    )\n",
    ")\n",
    "model.add(\n",
    "    TimeDistributed(\n",
    "        Dense(\n",
    "            100,\n",
    "            activation = 'sigmoid'\n",
    "        )\n",
    "    )\n",
    ")\n",
    "model.add(Flatten())"
   ]
  },
  {
   "cell_type": "code",
   "execution_count": 71,
   "metadata": {},
   "outputs": [],
   "source": [
    "model.add(\n",
    "    Dense(\n",
    "        100,\n",
    "        activation = 'sigmoid'\n",
    "    )\n",
    ")\n",
    "model.add(\n",
    "    Dense(\n",
    "        3,\n",
    "        activation = 'softmax'\n",
    "    )\n",
    ")\n",
    "model.compile(\n",
    "    optimizer = 'adam',\n",
    "    loss = 'binary_crossentropy',\n",
    "    metrics = ['acc']\n",
    ")"
   ]
  },
  {
   "cell_type": "code",
   "execution_count": 72,
   "metadata": {},
   "outputs": [
    {
     "name": "stdout",
     "output_type": "stream",
     "text": [
      "Model: \"sequential_3\"\n",
      "_________________________________________________________________\n",
      "Layer (type)                 Output Shape              Param #   \n",
      "=================================================================\n",
      "embedding_3 (Embedding)      (None, 100, 100)          1307700   \n",
      "_________________________________________________________________\n",
      "bidirectional (Bidirectional (None, 100, 200)          160800    \n",
      "_________________________________________________________________\n",
      "time_distributed (TimeDistri (None, 100, 100)          20100     \n",
      "_________________________________________________________________\n",
      "flatten_1 (Flatten)          (None, 10000)             0         \n",
      "_________________________________________________________________\n",
      "dense_4 (Dense)              (None, 100)               1000100   \n",
      "_________________________________________________________________\n",
      "dense_5 (Dense)              (None, 3)                 303       \n",
      "=================================================================\n",
      "Total params: 2,489,003\n",
      "Trainable params: 1,181,303\n",
      "Non-trainable params: 1,307,700\n",
      "_________________________________________________________________\n"
     ]
    }
   ],
   "source": [
    "model.summary()"
   ]
  },
  {
   "cell_type": "code",
   "execution_count": 73,
   "metadata": {},
   "outputs": [
    {
     "name": "stdout",
     "output_type": "stream",
     "text": [
      "Epoch 1/10\n",
      "47/47 [==============================] - 11s 240ms/step - loss: 1.1251 - acc: 0.1488 - val_loss: 0.8458 - val_acc: 0.0000e+00\n",
      "Epoch 2/10\n",
      "47/47 [==============================] - 11s 230ms/step - loss: 0.7255 - acc: 0.1803 - val_loss: 0.7023 - val_acc: 0.4267\n",
      "Epoch 3/10\n",
      "47/47 [==============================] - 12s 245ms/step - loss: 0.6977 - acc: 0.2368 - val_loss: 0.7012 - val_acc: 0.4267\n",
      "Epoch 4/10\n",
      "47/47 [==============================] - 16s 341ms/step - loss: 0.6976 - acc: 0.2080 - val_loss: 0.7012 - val_acc: 0.5733\n",
      "Epoch 5/10\n",
      "47/47 [==============================] - 16s 339ms/step - loss: 0.6976 - acc: 0.2812 - val_loss: 0.7012 - val_acc: 0.5733\n",
      "Epoch 6/10\n",
      "47/47 [==============================] - 11s 241ms/step - loss: 0.6976 - acc: 0.3358 - val_loss: 0.7012 - val_acc: 0.0000e+00\n",
      "Epoch 7/10\n",
      "47/47 [==============================] - 19s 401ms/step - loss: 0.6976 - acc: 0.2703 - val_loss: 0.7012 - val_acc: 0.0000e+00\n",
      "Epoch 8/10\n",
      "47/47 [==============================] - 19s 409ms/step - loss: 0.6976 - acc: 0.3672 - val_loss: 0.7012 - val_acc: 0.5733\n",
      "Epoch 9/10\n",
      "47/47 [==============================] - 17s 371ms/step - loss: 0.6976 - acc: 0.5785 - val_loss: 0.7012 - val_acc: 0.5733\n",
      "Epoch 10/10\n",
      "47/47 [==============================] - 15s 320ms/step - loss: 0.6976 - acc: 0.5785 - val_loss: 0.7012 - val_acc: 0.5733\n"
     ]
    }
   ],
   "source": [
    "hist = model.fit(\n",
    "    X_train,\n",
    "    y_train,\n",
    "    batch_size = 128,\n",
    "    epochs = 6,\n",
    "    verbose = 1,\n",
    "    validation_split = 0.2\n",
    ")"
   ]
  },
  {
   "cell_type": "code",
   "execution_count": 74,
   "metadata": {},
   "outputs": [
    {
     "name": "stdout",
     "output_type": "stream",
     "text": [
      "235/235 [==============================] - 9s 37ms/step - loss: 0.6983 - acc: 0.5775\n"
     ]
    },
    {
     "data": {
      "text/plain": [
       "(0.6983428597450256, 0.5774666666984558)"
      ]
     },
     "execution_count": 74,
     "metadata": {},
     "output_type": "execute_result"
    }
   ],
   "source": [
    "loss, acc = model.evaluate(\n",
    "    X_train,\n",
    "    y_train,\n",
    "    verbose = 1\n",
    ")\n",
    "\n",
    "loss, acc"
   ]
  },
  {
   "cell_type": "code",
   "execution_count": 75,
   "metadata": {},
   "outputs": [
    {
     "name": "stdout",
     "output_type": "stream",
     "text": [
      "79/79 [==============================] - 3s 36ms/step - loss: 0.6880 - acc: 0.5924\n"
     ]
    },
    {
     "data": {
      "text/plain": [
       "(0.6879918575286865, 0.5924000144004822)"
      ]
     },
     "execution_count": 75,
     "metadata": {},
     "output_type": "execute_result"
    }
   ],
   "source": [
    "loss, acc = model.evaluate(\n",
    "    X_test,\n",
    "    y_test,\n",
    "    verbose = 1\n",
    ")\n",
    "\n",
    "loss, acc"
   ]
  },
  {
   "cell_type": "code",
   "execution_count": 76,
   "metadata": {},
   "outputs": [
    {
     "data": {
      "image/png": "[encoded data removed]",
      "text/plain": [
       "<Figure size 432x288 with 1 Axes>"
      ]
     },
     "metadata": {
      "needs_background": "light"
     },
     "output_type": "display_data"
    }
   ],
   "source": [
    "plt.title('model accuracy')\n",
    "plt.xlabel('epoch')\n",
    "plt.ylabel('accuracy')\n",
    "plt.legend(['train', 'test'])\n",
    "\n",
    "plt.plot(hist.history['acc'])\n",
    "plt.plot(hist.history['val_acc'])\n",
    "\n",
    "plt.show()"
   ]
  },
  {
   "cell_type": "code",
   "execution_count": 77,
   "metadata": {},
   "outputs": [
    {
     "data": {
      "image/png": "[encoded data removed]",
      "text/plain": [
       "<Figure size 432x288 with 1 Axes>"
      ]
     },
     "metadata": {
      "needs_background": "light"
     },
     "output_type": "display_data"
    }
   ],
   "source": [
    "plt.title('model loss')\n",
    "plt.xlabel('epoch')\n",
    "plt.ylabel('loss')\n",
    "plt.legend(['train', 'test'], loc = 'upper left')\n",
    "\n",
    "plt.plot(hist.history['loss'])\n",
    "plt.plot(hist.history['val_loss'])\n",
    "\n",
    "plt.show()"
   ]
  },
  {
   "cell_type": "code",
   "execution_count": 78,
   "metadata": {},
   "outputs": [
    {
     "name": "stdout",
     "output_type": "stream",
     "text": [
      "WARNING:tensorflow:From /home/shiningflash/.local/lib/python3.6/site-packages/tensorflow/python/training/tracking/tracking.py:111: Model.state_updates (from tensorflow.python.keras.engine.training) is deprecated and will be removed in a future version.\n",
      "Instructions for updating:\n",
      "This property should not be used in TensorFlow 2.0, as updates are applied automatically.\n",
      "WARNING:tensorflow:From /home/shiningflash/.local/lib/python3.6/site-packages/tensorflow/python/training/tracking/tracking.py:111: Layer.updates (from tensorflow.python.keras.engine.base_layer) is deprecated and will be removed in a future version.\n",
      "Instructions for updating:\n",
      "This property should not be used in TensorFlow 2.0, as updates are applied automatically.\n",
      "INFO:tensorflow:Assets written to: model.m5/assets\n"
     ]
    }
   ],
   "source": [
    "model.save('model.m5')"
   ]
  }
 ],
 "metadata": {
  "kernelspec": {
   "display_name": "Python 3",
   "language": "python",
   "name": "python3"
  },
  "language_info": {
   "codemirror_mode": {
    "name": "ipython",
    "version": 3
   },
   "file_extension": ".py",
   "mimetype": "text/x-python",
   "name": "python",
   "nbconvert_exporter": "python",
   "pygments_lexer": "ipython3",
   "version": "3.6.9"
  }
 },
 "nbformat": 4,
 "nbformat_minor": 4
}
